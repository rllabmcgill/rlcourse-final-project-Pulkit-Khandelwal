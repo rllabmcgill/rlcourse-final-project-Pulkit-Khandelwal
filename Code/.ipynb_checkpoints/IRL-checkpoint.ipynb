{
 "cells": [
  {
   "cell_type": "code",
   "execution_count": 12,
   "metadata": {
    "collapsed": true
   },
   "outputs": [],
   "source": [
    "import numpy as np\n",
    "from numpy.linalg import inv\n",
    "from sklearn.preprocessing import normalize\n",
    "from scipy.optimize import linprog\n",
    "import matplotlib.pyplot as plt\n",
    "%matplotlib inline"
   ]
  },
  {
   "cell_type": "code",
   "execution_count": 13,
   "metadata": {
    "collapsed": true
   },
   "outputs": [],
   "source": [
    "def heatmap(a):\n",
    "    \"\"\"a: 2D array to plot as a heatmap\"\"\"\n",
    "    #plt.imshow(a, cmap='hot', interpolation='nearest')\n",
    "    plt.imshow(a, cmap='gray', interpolation='nearest')\n",
    "    plt.show()"
   ]
  },
  {
   "cell_type": "code",
   "execution_count": 14,
   "metadata": {
    "collapsed": true
   },
   "outputs": [],
   "source": [
    "# Environment\n",
    "w, h = 10, 10\n",
    "grid = np.zeros((w, h))\n",
    "n = grid.size\n",
    "S = np.eye(n, n)\n",
    "k = 5\n",
    "A = np.eye(k)\n",
    "UP, DOWN, RIGHT, LEFT, NOOP = 0, 1, 2, 3, 4\n",
    "gamma = 0.9\n"
   ]
  },
  {
   "cell_type": "code",
   "execution_count": 15,
   "metadata": {
    "collapsed": true
   },
   "outputs": [],
   "source": [
    "# Transition probabilities\n",
    "P = np.zeros((k, n, n))\n",
    "\n",
    "mask = np.zeros((k, n))\n",
    "grid.fill(1)\n",
    "grid[0,:] = 0\n",
    "mask[UP] = grid.reshape(-1)\n",
    "grid.fill(1)\n",
    "grid[-1,:] = 0\n",
    "mask[DOWN] = grid.reshape(-1)\n",
    "grid.fill(1)\n",
    "grid[:,-1] = 0\n",
    "mask[RIGHT] = grid.reshape(-1)\n",
    "grid.fill(1)\n",
    "grid[:,0] = 0\n",
    "mask[LEFT] = grid.reshape(-1)\n",
    "\n",
    "move = np.zeros((k, n, n))\n",
    "move[UP]    = np.roll(S, shift=-w, axis=0) * mask[UP]\n",
    "move[DOWN]  = np.roll(S, shift=+w, axis=0) * mask[DOWN]\n",
    "move[RIGHT] = np.roll(S, shift=+1, axis=0) * mask[RIGHT]\n",
    "move[LEFT]  = np.roll(S, shift=-1, axis=0) * mask[LEFT]\n",
    "\n",
    "directions = [UP, DOWN, RIGHT, LEFT]\n",
    "for d in directions:\n",
    "    # First build the random diffusion\n",
    "    P[d] += sum([ move[x] for x in directions if x != d ])\n",
    "    # Normalize random diffusion and multiply it by 30%\n",
    "    P[d] = normalize(P[d], axis=0, norm='l1') * 0.3\n",
    "    # Add the main direction\n",
    "    P[d] += move[d] * 0.7\n",
    "    # Renormalize for cells in which random diffusion was 0\n",
    "    P[d] = normalize(P[d], axis=0, norm='l1')\n",
    "\n",
    "P[NOOP] = np.eye(n)\n"
   ]
  },
  {
   "cell_type": "code",
   "execution_count": 16,
   "metadata": {
    "collapsed": false
   },
   "outputs": [
    {
     "data": {
      "image/png": "[encoded data removed]",
      "text/plain": [
       "<matplotlib.figure.Figure at 0x10c409fd0>"
      ]
     },
     "metadata": {},
     "output_type": "display_data"
    }
   ],
   "source": [
    "\n",
    "heatmap(P[RIGHT])"
   ]
  },
  {
   "cell_type": "code",
   "execution_count": 17,
   "metadata": {
    "collapsed": true
   },
   "outputs": [],
   "source": [
    "\n",
    "grid.fill(0)\n",
    "grid[0,-1] = 1\n",
    "R = grid.reshape(-1)\n",
    "Rmax = 1.0"
   ]
  },
  {
   "cell_type": "code",
   "execution_count": 18,
   "metadata": {
    "collapsed": false
   },
   "outputs": [
    {
     "ename": "ValueError",
     "evalue": "total size of new array must be unchanged",
     "output_type": "error",
     "traceback": [
      "\u001b[0;31m---------------------------------------------------------------------------\u001b[0m",
      "\u001b[0;31mValueError\u001b[0m                                Traceback (most recent call last)",
      "\u001b[0;32m<ipython-input-18-b0573db6899d>\u001b[0m in \u001b[0;36m<module>\u001b[0;34m()\u001b[0m\n\u001b[1;32m      9\u001b[0m ]).reshape(-1)\n\u001b[1;32m     10\u001b[0m \u001b[0;34m\u001b[0m\u001b[0m\n\u001b[0;32m---> 11\u001b[0;31m \u001b[0mheatmap\u001b[0m\u001b[0;34m(\u001b[0m\u001b[0mpolicy\u001b[0m\u001b[0;34m.\u001b[0m\u001b[0mreshape\u001b[0m\u001b[0;34m(\u001b[0m\u001b[0mw\u001b[0m\u001b[0;34m,\u001b[0m \u001b[0mh\u001b[0m\u001b[0;34m)\u001b[0m\u001b[0;34m)\u001b[0m\u001b[0;34m\u001b[0m\u001b[0m\n\u001b[0m",
      "\u001b[0;31mValueError\u001b[0m: total size of new array must be unchanged"
     ]
    }
   ],
   "source": [
    "# Observed agent action decision policy, from which we'll try to recover R\n",
    "# (for the case w = h = 5)\n",
    "policy = np.array([\n",
    "    [RIGHT, RIGHT, RIGHT, RIGHT, NOOP],\n",
    "    [UP,    RIGHT, RIGHT, UP,    UP  ],\n",
    "    [UP   , UP   , UP   , UP   , UP  ],\n",
    "    [UP   , UP   , RIGHT, UP   , UP  ],\n",
    "    [UP   , RIGHT, RIGHT, RIGHT, UP  ],\n",
    "]).reshape(-1)\n",
    "\n",
    "heatmap(policy.reshape(w, h))"
   ]
  },
  {
   "cell_type": "code",
   "execution_count": null,
   "metadata": {
    "collapsed": true
   },
   "outputs": [],
   "source": [
    "#Linear LP\n",
    "\n",
    "I = np.eye(n)\n",
    "nR = np.ndarray(n)\n",
    "J = np.ndarray((k, n, n))\n",
    "for a in range(k):\n",
    "    J[a] = inv(I - gamma * P[a])\n",
    "\n",
    "# Upper bound condition:\n",
    "# (P[a1] - P[a]) . inv(I - gamma * P[a1]) . -R <= 0 forall a != a1 forall a1 = pi(s)\n",
    "tr = np.transpose\n",
    "nb_constraints = n * k * (k - 1) + n * (k - 1)\n",
    "A = np.zeros((nb_constraints, 2 * n))\n",
    "cursor = 0\n",
    "# /!\\ we assume here that all possible actions are used by the policy,\n",
    "# i.e. {a | exists state s st. a = pi(s) } = A\n",
    "# otherwise, we would have to take a1 in values(policy)\n",
    "for ai in range(k):\n",
    "    for aj in range(k):\n",
    "        if ai == aj:\n",
    "            continue\n",
    "        A[cursor:cursor + n, 0:n] = tr(P[ai] - P[aj]).dot(tr(J[ai]))\n",
    "        cursor += n\n",
    "\n",
    "for i in range(n):\n",
    "    a1 = policy[i]\n",
    "    for a in range(k):\n",
    "        if a == a1:\n",
    "            continue\n",
    "        A[cursor, 0:n] = tr(P[a1, :, i] - P[a, :, i]).dot(tr(J[a1]))\n",
    "        A[cursor, n + i] = -1\n",
    "        cursor += 1\n",
    "\n",
    "b = np.zeros(nb_constraints)\n",
    "\n",
    "lamb = 10000.\n",
    "c = np.ndarray(2 * n)\n",
    "c[:n] = -lamb\n",
    "c[n:] = 1\n",
    "\n"
   ]
  },
  {
   "cell_type": "code",
   "execution_count": null,
   "metadata": {
    "collapsed": false
   },
   "outputs": [],
   "source": [
    "bounds = np.array( [(-Rmax, 0) for i in range(n)] + [(-1000000, 1000000) for i in range(n)] )\n",
    "\n",
    "res = linprog(c, A, b, bounds=bounds)\n",
    "heatmap(-res['x'][:n].reshape(w, h))\n"
   ]
  },
  {
   "cell_type": "code",
   "execution_count": null,
   "metadata": {
    "collapsed": true
   },
   "outputs": [],
   "source": [
    "\n",
    "a = np.zeros((70,))\n",
    "b = np.zeros((70,))\n",
    "\n",
    "for i in range(70):\n",
    "    a[i] = i//10\n",
    "    b[i] = i%10\n",
    "\n",
    "print a\n",
    "print b\n",
    "\n",
    "\n",
    "print tuple((a[69],b[69]))"
   ]
  }
 ],
 "metadata": {
  "anaconda-cloud": {},
  "kernelspec": {
   "display_name": "Python [conda root]",
   "language": "python",
   "name": "conda-root-py"
  },
  "language_info": {
   "codemirror_mode": {
    "name": "ipython",
    "version": 2
   },
   "file_extension": ".py",
   "mimetype": "text/x-python",
   "name": "python",
   "nbconvert_exporter": "python",
   "pygments_lexer": "ipython2",
   "version": "2.7.12"
  }
 },
 "nbformat": 4,
 "nbformat_minor": 0
}
